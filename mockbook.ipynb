{
 "cells": [
  {
   "cell_type": "code",
   "execution_count": 1,
   "metadata": {},
   "outputs": [],
   "source": [
    "from qcaas_client.client import OQCClient, QPUTask\n",
    "from scc.compiler.config import CompilerConfig, QuantumResultsFormat, Tket, TketOptimizations, MetricsType"
   ]
  },
  {
   "cell_type": "code",
   "execution_count": 2,
   "metadata": {},
   "outputs": [],
   "source": [
    "token = \"eyJ2ZXIiOiI1IiwidWlkIjoiYTA5MDI4ZTFhMTNlNGQwOTk2YzAyZmEwYjdkZWMwZjciLCJzaWQiOjAsImV4cCI6MH0.ZkuNBQ.cHWvd-EfgjQs74tDuivTmrGrUvo\""
   ]
  },
  {
   "cell_type": "code",
   "execution_count": 3,
   "metadata": {},
   "outputs": [],
   "source": [
    "client = OQCClient(url=\"https://cloud.oqc.app/\", authentication_token=token)"
   ]
  },
  {
   "cell_type": "code",
   "execution_count": 4,
   "metadata": {},
   "outputs": [],
   "source": [
    "hello_world = \"\"\"\n",
    "OPENQASM 2.0;\n",
    "include \"qelib1.inc\";\n",
    "qreg q[2];\n",
    "h q;\n",
    "creg c[2];\n",
    "measure q->c;\n",
    "\"\"\""
   ]
  },
  {
   "cell_type": "code",
   "execution_count": 5,
   "metadata": {},
   "outputs": [],
   "source": [
    "qpu_id = \"qpu:uk:2:d865b5a184\"  # Lucy simulator"
   ]
  },
  {
   "cell_type": "code",
   "execution_count": 6,
   "metadata": {},
   "outputs": [],
   "source": [
    "shot_count = 1000\n",
    "rep_period = 90e-6\n",
    "res_format = QuantumResultsFormat().binary_count()\n",
    "allowed_metrics = MetricsType.OptimizedInstructionCount\n",
    "optim = Tket()\n",
    "optim.tket_optimizations = TketOptimizations.DefaultMappingPass\n",
    "\n",
    "custom_config = CompilerConfig(repeats = shot_count,\n",
    "                        repetition_period = rep_period,\n",
    "                        results_format = res_format,\n",
    "                        metrics = allowed_metrics,\n",
    "                        optimizations = optim)"
   ]
  },
  {
   "cell_type": "code",
   "execution_count": 13,
   "metadata": {},
   "outputs": [],
   "source": [
    "task = QPUTask(program = hello_world, qpu_id = qpu_id)\n",
    "task_id = client.schedule_tasks(task, qpu_id = qpu_id)[0].task_id\n",
    "task_results = client.get_task_results(task_id, qpu_id=qpu_id)"
   ]
  },
  {
   "cell_type": "code",
   "execution_count": 20,
   "metadata": {},
   "outputs": [
    {
     "name": "stdout",
     "output_type": "stream",
     "text": [
      "COMPLETED\n"
     ]
    }
   ],
   "source": [
    "print(task_results.result)"
   ]
  }
 ],
 "metadata": {
  "kernelspec": {
   "display_name": "notebooks",
   "language": "python",
   "name": "python3"
  },
  "language_info": {
   "codemirror_mode": {
    "name": "ipython",
    "version": 3
   },
   "file_extension": ".py",
   "mimetype": "text/x-python",
   "name": "python",
   "nbconvert_exporter": "python",
   "pygments_lexer": "ipython3",
   "version": "3.10.14"
  }
 },
 "nbformat": 4,
 "nbformat_minor": 2
}
