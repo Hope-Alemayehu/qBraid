{
 "cells": [
  {
   "cell_type": "code",
   "execution_count": 1,
   "metadata": {},
   "outputs": [],
   "source": [
    "from qbraid.runtime.oqc import OQCProvider"
   ]
  },
  {
   "cell_type": "code",
   "execution_count": 2,
   "metadata": {},
   "outputs": [],
   "source": [
    "token = \"eyJ2ZXIiOiI1IiwidWlkIjoiYTA5MDI4ZTFhMTNlNGQwOTk2YzAyZmEwYjdkZWMwZjciLCJzaWQiOjAsImV4cCI6MH0.ZkuNBQ.cHWvd-EfgjQs74tDuivTmrGrUvo\""
   ]
  },
  {
   "cell_type": "code",
   "execution_count": 3,
   "metadata": {},
   "outputs": [],
   "source": [
    "provider = OQCProvider(token)"
   ]
  },
  {
   "cell_type": "code",
   "execution_count": 4,
   "metadata": {},
   "outputs": [],
   "source": [
    "device = provider.get_device(\"qpu:uk:2:d865b5a184\")"
   ]
  },
  {
   "cell_type": "code",
   "execution_count": 5,
   "metadata": {},
   "outputs": [],
   "source": [
    "program = \"\"\"\n",
    "OPENQASM 2.0;\n",
    "include \"qelib1.inc\";\n",
    "qreg q[2];\n",
    "h q;\n",
    "creg c[2];\n",
    "measure q->c;\n",
    "\"\"\"\n"
   ]
  },
  {
   "cell_type": "code",
   "execution_count": 8,
   "metadata": {},
   "outputs": [],
   "source": [
    "from qbraid.programs import load_program\n",
    "\n",
    "program = load_program(program)"
   ]
  },
  {
   "cell_type": "code",
   "execution_count": 6,
   "metadata": {},
   "outputs": [
    {
     "ename": "QbraidError",
     "evalue": "Error loading quantum program of type <class 'str'>",
     "output_type": "error",
     "traceback": [
      "\u001b[0;31m---------------------------------------------------------------------------\u001b[0m",
      "\u001b[0;31mValueError\u001b[0m                                Traceback (most recent call last)",
      "File \u001b[0;32m~/Desktop/qbraid/qBraid/qbraid/_import.py:42\u001b[0m, in \u001b[0;36m_load_entrypoint\u001b[0;34m(module, name)\u001b[0m\n\u001b[1;32m     41\u001b[0m entrypoints \u001b[38;5;241m=\u001b[39m {entry\u001b[38;5;241m.\u001b[39mname: entry \u001b[38;5;28;01mfor\u001b[39;00m entry \u001b[38;5;129;01min\u001b[39;00m pkg_resources\u001b[38;5;241m.\u001b[39miter_entry_points(group)}\n\u001b[0;32m---> 42\u001b[0m \u001b[38;5;28;01mraise\u001b[39;00m \u001b[38;5;167;01mValueError\u001b[39;00m(\u001b[38;5;124mf\u001b[39m\u001b[38;5;124m\"\u001b[39m\u001b[38;5;132;01m{\u001b[39;00mentrypoints\u001b[38;5;132;01m}\u001b[39;00m\u001b[38;5;124m\"\u001b[39m)\n\u001b[1;32m     43\u001b[0m entry_point \u001b[38;5;241m=\u001b[39m entrypoints[name]\n",
      "\u001b[0;31mValueError\u001b[0m: {}",
      "\nThe above exception was the direct cause of the following exception:\n",
      "\u001b[0;31mQbraidError\u001b[0m                               Traceback (most recent call last)",
      "File \u001b[0;32m~/Desktop/qbraid/qBraid/qbraid/programs/loader.py:56\u001b[0m, in \u001b[0;36mload_program\u001b[0;34m(program)\u001b[0m\n\u001b[1;32m     55\u001b[0m \u001b[38;5;28;01mtry\u001b[39;00m:\n\u001b[0;32m---> 56\u001b[0m     load_program_class \u001b[38;5;241m=\u001b[39m \u001b[43m_load_entrypoint\u001b[49m\u001b[43m(\u001b[49m\u001b[38;5;124;43m\"\u001b[39;49m\u001b[38;5;124;43mprograms\u001b[39;49m\u001b[38;5;124;43m\"\u001b[39;49m\u001b[43m,\u001b[49m\u001b[43m \u001b[49m\u001b[43mpackage\u001b[49m\u001b[43m)\u001b[49m\n\u001b[1;32m     57\u001b[0m \u001b[38;5;28;01mexcept\u001b[39;00m \u001b[38;5;167;01mException\u001b[39;00m \u001b[38;5;28;01mas\u001b[39;00m err:\n",
      "File \u001b[0;32m~/Desktop/qbraid/qBraid/qbraid/_import.py:48\u001b[0m, in \u001b[0;36m_load_entrypoint\u001b[0;34m(module, name)\u001b[0m\n\u001b[1;32m     47\u001b[0m \u001b[38;5;28;01mexcept\u001b[39;00m \u001b[38;5;167;01mException\u001b[39;00m \u001b[38;5;28;01mas\u001b[39;00m err:\n\u001b[0;32m---> 48\u001b[0m     \u001b[38;5;28;01mraise\u001b[39;00m QbraidError(\u001b[38;5;124mf\u001b[39m\u001b[38;5;124m\"\u001b[39m\u001b[38;5;124mFailed to load entrypoint \u001b[39m\u001b[38;5;124m'\u001b[39m\u001b[38;5;132;01m{\u001b[39;00mname\u001b[38;5;132;01m}\u001b[39;00m\u001b[38;5;124m'\u001b[39m\u001b[38;5;124m from module \u001b[39m\u001b[38;5;124m'\u001b[39m\u001b[38;5;132;01m{\u001b[39;00mmodule\u001b[38;5;132;01m}\u001b[39;00m\u001b[38;5;124m'\u001b[39m\u001b[38;5;124m.\u001b[39m\u001b[38;5;124m\"\u001b[39m) \u001b[38;5;28;01mfrom\u001b[39;00m \u001b[38;5;21;01merr\u001b[39;00m\n",
      "\u001b[0;31mQbraidError\u001b[0m: Failed to load entrypoint 'qasm2' from module 'programs'.",
      "\nThe above exception was the direct cause of the following exception:\n",
      "\u001b[0;31mQbraidError\u001b[0m                               Traceback (most recent call last)",
      "Cell \u001b[0;32mIn[6], line 1\u001b[0m\n\u001b[0;32m----> 1\u001b[0m job \u001b[38;5;241m=\u001b[39m \u001b[43mdevice\u001b[49m\u001b[38;5;241;43m.\u001b[39;49m\u001b[43mrun\u001b[49m\u001b[43m(\u001b[49m\u001b[43mprogram\u001b[49m\u001b[43m)\u001b[49m\n",
      "File \u001b[0;32m~/Desktop/qbraid/qBraid/qbraid/runtime/device.py:235\u001b[0m, in \u001b[0;36mQuantumDevice.run\u001b[0;34m(self, run_input, *args, **kwargs)\u001b[0m\n\u001b[1;32m    233\u001b[0m is_single_input \u001b[38;5;241m=\u001b[39m \u001b[38;5;129;01mnot\u001b[39;00m \u001b[38;5;28misinstance\u001b[39m(run_input, \u001b[38;5;28mlist\u001b[39m)\n\u001b[1;32m    234\u001b[0m run_input \u001b[38;5;241m=\u001b[39m [run_input] \u001b[38;5;28;01mif\u001b[39;00m is_single_input \u001b[38;5;28;01melse\u001b[39;00m run_input\n\u001b[0;32m--> 235\u001b[0m run_input_compat \u001b[38;5;241m=\u001b[39m [\u001b[38;5;28mself\u001b[39m\u001b[38;5;241m.\u001b[39mapply_runtime_profile(program) \u001b[38;5;28;01mfor\u001b[39;00m program \u001b[38;5;129;01min\u001b[39;00m run_input]\n\u001b[1;32m    236\u001b[0m run_input_compat \u001b[38;5;241m=\u001b[39m run_input_compat[\u001b[38;5;241m0\u001b[39m] \u001b[38;5;28;01mif\u001b[39;00m is_single_input \u001b[38;5;28;01melse\u001b[39;00m run_input_compat\n\u001b[1;32m    237\u001b[0m \u001b[38;5;28;01mreturn\u001b[39;00m \u001b[38;5;28mself\u001b[39m\u001b[38;5;241m.\u001b[39msubmit(run_input_compat, \u001b[38;5;241m*\u001b[39margs, \u001b[38;5;241m*\u001b[39m\u001b[38;5;241m*\u001b[39mkwargs)\n",
      "File \u001b[0;32m~/Desktop/qbraid/qBraid/qbraid/runtime/device.py:235\u001b[0m, in \u001b[0;36m<listcomp>\u001b[0;34m(.0)\u001b[0m\n\u001b[1;32m    233\u001b[0m is_single_input \u001b[38;5;241m=\u001b[39m \u001b[38;5;129;01mnot\u001b[39;00m \u001b[38;5;28misinstance\u001b[39m(run_input, \u001b[38;5;28mlist\u001b[39m)\n\u001b[1;32m    234\u001b[0m run_input \u001b[38;5;241m=\u001b[39m [run_input] \u001b[38;5;28;01mif\u001b[39;00m is_single_input \u001b[38;5;28;01melse\u001b[39;00m run_input\n\u001b[0;32m--> 235\u001b[0m run_input_compat \u001b[38;5;241m=\u001b[39m [\u001b[38;5;28;43mself\u001b[39;49m\u001b[38;5;241;43m.\u001b[39;49m\u001b[43mapply_runtime_profile\u001b[49m\u001b[43m(\u001b[49m\u001b[43mprogram\u001b[49m\u001b[43m)\u001b[49m \u001b[38;5;28;01mfor\u001b[39;00m program \u001b[38;5;129;01min\u001b[39;00m run_input]\n\u001b[1;32m    236\u001b[0m run_input_compat \u001b[38;5;241m=\u001b[39m run_input_compat[\u001b[38;5;241m0\u001b[39m] \u001b[38;5;28;01mif\u001b[39;00m is_single_input \u001b[38;5;28;01melse\u001b[39;00m run_input_compat\n\u001b[1;32m    237\u001b[0m \u001b[38;5;28;01mreturn\u001b[39;00m \u001b[38;5;28mself\u001b[39m\u001b[38;5;241m.\u001b[39msubmit(run_input_compat, \u001b[38;5;241m*\u001b[39margs, \u001b[38;5;241m*\u001b[39m\u001b[38;5;241m*\u001b[39mkwargs)\n",
      "File \u001b[0;32m~/Desktop/qbraid/qBraid/qbraid/runtime/device.py:204\u001b[0m, in \u001b[0;36mQuantumDevice.apply_runtime_profile\u001b[0;34m(self, run_input)\u001b[0m\n\u001b[1;32m    202\u001b[0m run_input_alias \u001b[38;5;241m=\u001b[39m get_program_type_alias(run_input, safe\u001b[38;5;241m=\u001b[39m\u001b[38;5;28;01mTrue\u001b[39;00m)\n\u001b[1;32m    203\u001b[0m run_input_spec \u001b[38;5;241m=\u001b[39m ProgramSpec(\u001b[38;5;28mtype\u001b[39m(run_input), alias\u001b[38;5;241m=\u001b[39mrun_input_alias)\n\u001b[0;32m--> 204\u001b[0m program \u001b[38;5;241m=\u001b[39m \u001b[43mload_program\u001b[49m\u001b[43m(\u001b[49m\u001b[43mrun_input\u001b[49m\u001b[43m)\u001b[49m \u001b[38;5;28;01mif\u001b[39;00m run_input_spec\u001b[38;5;241m.\u001b[39mnative \u001b[38;5;28;01melse\u001b[39;00m \u001b[38;5;28;01mNone\u001b[39;00m\n\u001b[1;32m    206\u001b[0m \u001b[38;5;28mself\u001b[39m\u001b[38;5;241m.\u001b[39mvalidate(program)\n\u001b[1;32m    207\u001b[0m run_input \u001b[38;5;241m=\u001b[39m \u001b[38;5;28mself\u001b[39m\u001b[38;5;241m.\u001b[39mtranspile(run_input, run_input_spec)\n",
      "File \u001b[0;32m~/Desktop/qbraid/qBraid/qbraid/programs/loader.py:58\u001b[0m, in \u001b[0;36mload_program\u001b[0;34m(program)\u001b[0m\n\u001b[1;32m     56\u001b[0m     load_program_class \u001b[38;5;241m=\u001b[39m _load_entrypoint(\u001b[38;5;124m\"\u001b[39m\u001b[38;5;124mprograms\u001b[39m\u001b[38;5;124m\"\u001b[39m, package)\n\u001b[1;32m     57\u001b[0m \u001b[38;5;28;01mexcept\u001b[39;00m \u001b[38;5;167;01mException\u001b[39;00m \u001b[38;5;28;01mas\u001b[39;00m err:\n\u001b[0;32m---> 58\u001b[0m     \u001b[38;5;28;01mraise\u001b[39;00m QbraidError(\u001b[38;5;124mf\u001b[39m\u001b[38;5;124m\"\u001b[39m\u001b[38;5;124mError loading quantum program of type \u001b[39m\u001b[38;5;132;01m{\u001b[39;00m\u001b[38;5;28mtype\u001b[39m(program)\u001b[38;5;132;01m}\u001b[39;00m\u001b[38;5;124m\"\u001b[39m) \u001b[38;5;28;01mfrom\u001b[39;00m \u001b[38;5;21;01merr\u001b[39;00m\n\u001b[1;32m     60\u001b[0m \u001b[38;5;28;01mreturn\u001b[39;00m load_program_class(program)\n",
      "\u001b[0;31mQbraidError\u001b[0m: Error loading quantum program of type <class 'str'>"
     ]
    }
   ],
   "source": [
    "job = device.run(program)"
   ]
  }
 ],
 "metadata": {
  "kernelspec": {
   "display_name": "oqc_test",
   "language": "python",
   "name": "python3"
  },
  "language_info": {
   "codemirror_mode": {
    "name": "ipython",
    "version": 3
   },
   "file_extension": ".py",
   "mimetype": "text/x-python",
   "name": "python",
   "nbconvert_exporter": "python",
   "pygments_lexer": "ipython3",
   "version": "3.10.14"
  }
 },
 "nbformat": 4,
 "nbformat_minor": 2
}
